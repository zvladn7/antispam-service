{
  "nbformat": 4,
  "nbformat_minor": 0,
  "metadata": {
    "colab": {
      "provenance": []
    },
    "kernelspec": {
      "name": "python3",
      "display_name": "Python 3"
    },
    "language_info": {
      "name": "python"
    }
  },
  "cells": [
    {
      "cell_type": "markdown",
      "source": [
        "Setup\n"
      ],
      "metadata": {
        "id": "dSgxXX5NZa7T"
      }
    },
    {
      "cell_type": "code",
      "execution_count": 2,
      "metadata": {
        "colab": {
          "base_uri": "https://localhost:8080/"
        },
        "id": "mGkkUq0-ZTrF",
        "outputId": "e70a3455-74c3-47d2-fb79-dda7d07c7e4b"
      },
      "outputs": [
        {
          "output_type": "stream",
          "name": "stdout",
          "text": [
            "Looking in indexes: https://pypi.org/simple, https://us-python.pkg.dev/colab-wheels/public/simple/\n",
            "Collecting Bio\n",
            "  Downloading bio-1.5.9-py3-none-any.whl (276 kB)\n",
            "\u001b[2K     \u001b[90m━━━━━━━━━━━━━━━━━━━━━━━━━━━━━━━━━━━━━━━\u001b[0m \u001b[32m276.4/276.4 kB\u001b[0m \u001b[31m5.9 MB/s\u001b[0m eta \u001b[36m0:00:00\u001b[0m\n",
            "\u001b[?25hCollecting mygene\n",
            "  Downloading mygene-3.2.2-py2.py3-none-any.whl (5.4 kB)\n",
            "Requirement already satisfied: pandas in /usr/local/lib/python3.10/dist-packages (from Bio) (1.5.3)\n",
            "Requirement already satisfied: pooch in /usr/local/lib/python3.10/dist-packages (from Bio) (1.6.0)\n",
            "Collecting biopython>=1.80\n",
            "  Downloading biopython-1.81-cp310-cp310-manylinux_2_17_x86_64.manylinux2014_x86_64.whl (3.1 MB)\n",
            "\u001b[2K     \u001b[90m━━━━━━━━━━━━━━━━━━━━━━━━━━━━━━━━━━━━━━━━\u001b[0m \u001b[32m3.1/3.1 MB\u001b[0m \u001b[31m50.2 MB/s\u001b[0m eta \u001b[36m0:00:00\u001b[0m\n",
            "\u001b[?25hRequirement already satisfied: requests in /usr/local/lib/python3.10/dist-packages (from Bio) (2.27.1)\n",
            "Requirement already satisfied: tqdm in /usr/local/lib/python3.10/dist-packages (from Bio) (4.65.0)\n",
            "Collecting gprofiler-official\n",
            "  Downloading gprofiler_official-1.0.0-py3-none-any.whl (9.3 kB)\n",
            "Requirement already satisfied: numpy in /usr/local/lib/python3.10/dist-packages (from biopython>=1.80->Bio) (1.22.4)\n",
            "Collecting biothings-client>=0.2.6\n",
            "  Downloading biothings_client-0.3.0-py2.py3-none-any.whl (29 kB)\n",
            "Requirement already satisfied: pytz>=2020.1 in /usr/local/lib/python3.10/dist-packages (from pandas->Bio) (2022.7.1)\n",
            "Requirement already satisfied: python-dateutil>=2.8.1 in /usr/local/lib/python3.10/dist-packages (from pandas->Bio) (2.8.2)\n",
            "Requirement already satisfied: appdirs>=1.3.0 in /usr/local/lib/python3.10/dist-packages (from pooch->Bio) (1.4.4)\n",
            "Requirement already satisfied: packaging>=20.0 in /usr/local/lib/python3.10/dist-packages (from pooch->Bio) (23.1)\n",
            "Requirement already satisfied: certifi>=2017.4.17 in /usr/local/lib/python3.10/dist-packages (from requests->Bio) (2022.12.7)\n",
            "Requirement already satisfied: charset-normalizer~=2.0.0 in /usr/local/lib/python3.10/dist-packages (from requests->Bio) (2.0.12)\n",
            "Requirement already satisfied: urllib3<1.27,>=1.21.1 in /usr/local/lib/python3.10/dist-packages (from requests->Bio) (1.26.15)\n",
            "Requirement already satisfied: idna<4,>=2.5 in /usr/local/lib/python3.10/dist-packages (from requests->Bio) (3.4)\n",
            "Requirement already satisfied: six>=1.5 in /usr/local/lib/python3.10/dist-packages (from python-dateutil>=2.8.1->pandas->Bio) (1.16.0)\n",
            "Installing collected packages: biopython, gprofiler-official, biothings-client, mygene, Bio\n",
            "Successfully installed Bio-1.5.9 biopython-1.81 biothings-client-0.3.0 gprofiler-official-1.0.0 mygene-3.2.2\n"
          ]
        }
      ],
      "source": [
        "!pip install Bio"
      ]
    },
    {
      "cell_type": "markdown",
      "source": [],
      "metadata": {
        "id": "51qR1-NEZj8n"
      }
    },
    {
      "cell_type": "markdown",
      "source": [
        "GenBank Introduction\n",
        "\n",
        "https://rosalind.info/problems/gbk/\n",
        "\n",
        "Предварительно необходимо создать файл rosalind_gen_bank.txt"
      ],
      "metadata": {
        "id": "9bWLz5-waw6G"
      }
    },
    {
      "cell_type": "code",
      "source": [
        "from sys import argv\n",
        "from Bio import Entrez\n",
        "\n",
        "\n",
        "def search_entrez(gene, start_date, end_date):\n",
        "    organism = '\"{0}\"[Organism]'.format(gene)\n",
        "    date_field = '\"{0}\"[Publication Date]'\n",
        "    start_date_field = date_field.format(start_date)\n",
        "    end_date_field = date_field.format(end_date)\n",
        "    date_span = '{0} : {1}'.format(start_date_field, end_date_field)\n",
        "    term = '{0} AND {1}'.format(organism, date_span)\n",
        "    handle = Entrez.esearch(db=\"nucleotide\", term=term)\n",
        "    record = Entrez.read(handle)\n",
        "    return record[\"Count\"]\n",
        "\n",
        "\n",
        "with open(\"./rosalind_gen_bank.txt\", 'r') as inf:\n",
        "  data = inf.readlines()\n",
        "  gene = data[0].strip()\n",
        "  start_date = data[1].strip()\n",
        "  end_date = data[2].strip()\n",
        "  print(search_entrez(gene, start_date, end_date))\n"
      ],
      "metadata": {
        "colab": {
          "base_uri": "https://localhost:8080/"
        },
        "id": "ggDro_hLaIkn",
        "outputId": "a07701fd-bc82-4aab-efbb-f7f2344cf97b"
      },
      "execution_count": 5,
      "outputs": [
        {
          "output_type": "stream",
          "name": "stdout",
          "text": [
            "7\n"
          ]
        }
      ]
    },
    {
      "cell_type": "markdown",
      "source": [
        "Data Formats\n",
        "\n",
        "https://rosalind.info/problems/frmt/"
      ],
      "metadata": {
        "id": "qG6SOBYQamJc"
      }
    },
    {
      "cell_type": "code",
      "source": [
        "from sys import argv\n",
        "from Bio import Entrez\n",
        "from Bio import SeqIO\n",
        "\n",
        "def get_nuc_fasta(nucleotide_ids):\n",
        "    handle = Entrez.efetch(db=\"nucleotide\", id=[nucleotide_ids], rettype=\"fasta\")\n",
        "    records = list(SeqIO.parse(handle, \"fasta\"))\n",
        "\n",
        "    shortest = min(records, key=lambda x: len(x.seq))\n",
        "    return shortest.format('fasta')\n",
        "\n",
        "\n",
        "\n",
        "with open(\"rosalind_data_formats.txt\", 'r') as inf:\n",
        "  data = inf.read()\n",
        "  nucleotide_ids = ', '.join(data.strip().split())\n",
        "  print(get_nuc_fasta(nucleotide_ids))"
      ],
      "metadata": {
        "colab": {
          "base_uri": "https://localhost:8080/"
        },
        "id": "HqhUpufyt9s_",
        "outputId": "4645f566-f08f-40ff-f9ed-8f3f65945025"
      },
      "execution_count": 4,
      "outputs": [
        {
          "output_type": "stream",
          "name": "stdout",
          "text": [
            ">JX469983.1 Zea mays subsp. mays clone UT3343 G2-like transcription factor mRNA, partial cds\n",
            "ATGATGTATCATGCGAAGAATTTTTCTGTGCCCTTTGCTCCGCAGAGGGCACAGGATAAT\n",
            "GAGCATGCAAGTAATATTGGAGGTATTGGTGGACCCAACATAAGCAACCCTGCTAATCCT\n",
            "GTAGGAAGTGGGAAACAACGGCTACGGTGGACATCGGATCTTCATAATCGCTTTGTGGAT\n",
            "GCCATCGCCCAGCTTGGTGGACCAGACAGAGCTACACCTAAAGGGGTTCTCACTGTGATG\n",
            "GGTGTACCAGGGATCACAATTTATCATGTGAAGAGCCATCTGCAGAAGTATCGCCTTGCA\n",
            "AAGTATATACCCGACTCTCCTGCTGAAGGTTCCAAGGACGAAAAGAAAGATTCGAGTGAT\n",
            "TCCCTCTCGAACACGGATTCGGCACCAGGATTGCAAATCAATGAGGCACTAAAGATGCAA\n",
            "ATGGAGGTTCAGAAGCGACTACATGAGCAACTCGAGGTTCAAAGACAACTGCAACTAAGA\n",
            "ATTGAAGCACAAGGAAGATACTTGCAGATGATCATTGAGGAGCAACAAAAGCTTGGTGGA\n",
            "TCAATTAAGGCTTCTGAGGATCAGAAGCTTTCTGATTCACCTCCAAGCTTAGATGACTAC\n",
            "CCAGAGAGCATGCAACCTTCTCCCAAGAAACCAAGGATAGACGCATTATCACCAGATTCA\n",
            "GAGCGCGATACAACACAACCTGAATTCGAATCCCATTTGATCGGTCCGTGGGATCACGGC\n",
            "ATTGCATTCCCAGTGGAGGAGTTCAAAGCAGGCCCTGCTATGAGCAAGTCA\n",
            "\n"
          ]
        }
      ]
    }
  ]
}